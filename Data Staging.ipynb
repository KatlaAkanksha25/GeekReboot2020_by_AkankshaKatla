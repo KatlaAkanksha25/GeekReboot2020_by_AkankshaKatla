{
 "cells": [
  {
   "cell_type": "markdown",
   "metadata": {},
   "source": [
    "# Description\n",
    "\n",
    "This notebook is used to concatenate all sources of raw SMILES data and prepare data so that the 'cleanup_smiles.py' script can parse original data (used in training RNN)."
   ]
  },
  {
   "cell_type": "code",
   "execution_count": 1,
   "metadata": {},
   "outputs": [],
   "source": [
    "import pandas as pd"
   ]
  },
  {
   "cell_type": "code",
   "execution_count": 3,
   "metadata": {},
   "outputs": [
    {
     "name": "stdout",
     "output_type": "stream",
     "text": [
      "(1936962, 2)\n",
      "(1936962, 2)\n"
     ]
    },
    {
     "data": {
      "text/html": [
       "<div>\n",
       "<style scoped>\n",
       "    .dataframe tbody tr th:only-of-type {\n",
       "        vertical-align: middle;\n",
       "    }\n",
       "\n",
       "    .dataframe tbody tr th {\n",
       "        vertical-align: top;\n",
       "    }\n",
       "\n",
       "    .dataframe thead th {\n",
       "        text-align: right;\n",
       "    }\n",
       "</style>\n",
       "<table border=\"1\" class=\"dataframe\">\n",
       "  <thead>\n",
       "    <tr style=\"text-align: right;\">\n",
       "      <th></th>\n",
       "      <th>SMILES</th>\n",
       "      <th>SPLIT</th>\n",
       "      <th>smiles</th>\n",
       "      <th>length</th>\n",
       "    </tr>\n",
       "  </thead>\n",
       "  <tbody>\n",
       "    <tr>\n",
       "      <th>0</th>\n",
       "      <td>CCCS(=O)c1ccc2[nH]c(=NC(=O)OC)[nH]c2c1</td>\n",
       "      <td>train</td>\n",
       "      <td>CCCS(=O)c1ccc2[nH]c(=NC(=O)OC)[nH]c2c1</td>\n",
       "      <td>38</td>\n",
       "    </tr>\n",
       "    <tr>\n",
       "      <th>1</th>\n",
       "      <td>CC(C)(C)C(=O)C(Oc1ccc(Cl)cc1)n1ccnc1</td>\n",
       "      <td>train</td>\n",
       "      <td>CC(C)(C)C(=O)C(Oc1ccc(Cl)cc1)n1ccnc1</td>\n",
       "      <td>36</td>\n",
       "    </tr>\n",
       "    <tr>\n",
       "      <th>2</th>\n",
       "      <td>CC1C2CCC(C2)C1CN(CCO)C(=O)c1ccc(Cl)cc1</td>\n",
       "      <td>test</td>\n",
       "      <td>CC1C2CCC(C2)C1CN(CCO)C(=O)c1ccc(Cl)cc1</td>\n",
       "      <td>38</td>\n",
       "    </tr>\n",
       "    <tr>\n",
       "      <th>3</th>\n",
       "      <td>Cc1c(Cl)cccc1Nc1ncccc1C(=O)OCC(O)CO</td>\n",
       "      <td>train</td>\n",
       "      <td>Cc1c(Cl)cccc1Nc1ncccc1C(=O)OCC(O)CO</td>\n",
       "      <td>35</td>\n",
       "    </tr>\n",
       "    <tr>\n",
       "      <th>4</th>\n",
       "      <td>Cn1cnc2c1c(=O)n(CC(O)CO)c(=O)n2C</td>\n",
       "      <td>train</td>\n",
       "      <td>Cn1cnc2c1c(=O)n(CC(O)CO)c(=O)n2C</td>\n",
       "      <td>32</td>\n",
       "    </tr>\n",
       "  </tbody>\n",
       "</table>\n",
       "</div>"
      ],
      "text/plain": [
       "                                   SMILES  SPLIT  \\\n",
       "0  CCCS(=O)c1ccc2[nH]c(=NC(=O)OC)[nH]c2c1  train   \n",
       "1    CC(C)(C)C(=O)C(Oc1ccc(Cl)cc1)n1ccnc1  train   \n",
       "2  CC1C2CCC(C2)C1CN(CCO)C(=O)c1ccc(Cl)cc1   test   \n",
       "3     Cc1c(Cl)cccc1Nc1ncccc1C(=O)OCC(O)CO  train   \n",
       "4        Cn1cnc2c1c(=O)n(CC(O)CO)c(=O)n2C  train   \n",
       "\n",
       "                                   smiles  length  \n",
       "0  CCCS(=O)c1ccc2[nH]c(=NC(=O)OC)[nH]c2c1      38  \n",
       "1    CC(C)(C)C(=O)C(Oc1ccc(Cl)cc1)n1ccnc1      36  \n",
       "2  CC1C2CCC(C2)C1CN(CCO)C(=O)c1ccc(Cl)cc1      38  \n",
       "3     Cc1c(Cl)cccc1Nc1ncccc1C(=O)OCC(O)CO      35  \n",
       "4        Cn1cnc2c1c(=O)n(CC(O)CO)c(=O)n2C      32  "
      ]
     },
     "execution_count": 3,
     "metadata": {},
     "output_type": "execute_result"
    }
   ],
   "source": [
    "moses_smiles = pd.read_csv('./datasets/moses_dataset_v1.csv',sep=',')\n",
    "print(moses_smiles.shape)\n",
    "moses_smiles = moses_smiles[moses_smiles['SMILES'].notnull()]\n",
    "print(moses_smiles.shape)\n",
    "moses_smiles['smiles'] = moses_smiles[\"SMILES\"]\n",
    "moses_smiles['length'] = moses_smiles[\"smiles\"].str.len()\n",
    "moses_smiles.head()"
   ]
  },
  {
   "cell_type": "code",
   "execution_count": 4,
   "metadata": {},
   "outputs": [
    {
     "name": "stdout",
     "output_type": "stream",
     "text": [
      "(1919023, 31)\n",
      "(1913602, 31)\n"
     ]
    },
    {
     "data": {
      "text/html": [
       "<div>\n",
       "<style scoped>\n",
       "    .dataframe tbody tr th:only-of-type {\n",
       "        vertical-align: middle;\n",
       "    }\n",
       "\n",
       "    .dataframe tbody tr th {\n",
       "        vertical-align: top;\n",
       "    }\n",
       "\n",
       "    .dataframe thead th {\n",
       "        text-align: right;\n",
       "    }\n",
       "</style>\n",
       "<table border=\"1\" class=\"dataframe\">\n",
       "  <thead>\n",
       "    <tr style=\"text-align: right;\">\n",
       "      <th></th>\n",
       "      <th>ChEMBL ID</th>\n",
       "      <th>Name</th>\n",
       "      <th>Synonyms</th>\n",
       "      <th>Type</th>\n",
       "      <th>Max Phase</th>\n",
       "      <th>Molecular Weight</th>\n",
       "      <th>Targets</th>\n",
       "      <th>Bioactivities</th>\n",
       "      <th>AlogP</th>\n",
       "      <th>PSA</th>\n",
       "      <th>...</th>\n",
       "      <th>Heavy Atoms</th>\n",
       "      <th>HBA Lipinski</th>\n",
       "      <th>HBD Lipinski</th>\n",
       "      <th>#RO5 Violations (Lipinski)</th>\n",
       "      <th>Molecular Weight (Monoisotopic)</th>\n",
       "      <th>Molecular Species</th>\n",
       "      <th>Molecular Formula</th>\n",
       "      <th>Smiles</th>\n",
       "      <th>smiles</th>\n",
       "      <th>length</th>\n",
       "    </tr>\n",
       "  </thead>\n",
       "  <tbody>\n",
       "    <tr>\n",
       "      <th>369</th>\n",
       "      <td>CHEMBL288742</td>\n",
       "      <td>NaN</td>\n",
       "      <td>NaN</td>\n",
       "      <td>Small molecule</td>\n",
       "      <td>0</td>\n",
       "      <td>468.43</td>\n",
       "      <td>2</td>\n",
       "      <td>2.0</td>\n",
       "      <td>2.96</td>\n",
       "      <td>137.04</td>\n",
       "      <td>...</td>\n",
       "      <td>33.0</td>\n",
       "      <td>9.0</td>\n",
       "      <td>4.0</td>\n",
       "      <td>0.0</td>\n",
       "      <td>468.1621</td>\n",
       "      <td>ACID</td>\n",
       "      <td>C21H23F3N4O5</td>\n",
       "      <td>O=C(O)C(CCCCn1cnc2c1NC=NCC2O)(Cc1ccccc1C(F)(F)...</td>\n",
       "      <td>O=C(O)C(CCCCn1cnc2c1NC=NCC2O)(Cc1ccccc1C(F)(F)...</td>\n",
       "      <td>54</td>\n",
       "    </tr>\n",
       "    <tr>\n",
       "      <th>372</th>\n",
       "      <td>CHEMBL293576</td>\n",
       "      <td>NaN</td>\n",
       "      <td>NaN</td>\n",
       "      <td>Small molecule</td>\n",
       "      <td>0</td>\n",
       "      <td>434.54</td>\n",
       "      <td>1</td>\n",
       "      <td>1.0</td>\n",
       "      <td>2.56</td>\n",
       "      <td>136.76</td>\n",
       "      <td>...</td>\n",
       "      <td>32.0</td>\n",
       "      <td>8.0</td>\n",
       "      <td>6.0</td>\n",
       "      <td>1.0</td>\n",
       "      <td>434.2430</td>\n",
       "      <td>BASE</td>\n",
       "      <td>C24H30N6O2</td>\n",
       "      <td>Cc1ccc(-c2cc(CN(Cc3ccccc3)C(CCCN=C(N)N)C(N)=O)...</td>\n",
       "      <td>Cc1ccc(-c2cc(CN(Cc3ccccc3)C(CCCN=C(N)N)C(N)=O)...</td>\n",
       "      <td>53</td>\n",
       "    </tr>\n",
       "    <tr>\n",
       "      <th>373</th>\n",
       "      <td>CHEMBL159008</td>\n",
       "      <td>NaN</td>\n",
       "      <td>NaN</td>\n",
       "      <td>Small molecule</td>\n",
       "      <td>0</td>\n",
       "      <td>269.30</td>\n",
       "      <td>1</td>\n",
       "      <td>2.0</td>\n",
       "      <td>3.27</td>\n",
       "      <td>55.49</td>\n",
       "      <td>...</td>\n",
       "      <td>20.0</td>\n",
       "      <td>4.0</td>\n",
       "      <td>1.0</td>\n",
       "      <td>0.0</td>\n",
       "      <td>269.1052</td>\n",
       "      <td>ACID</td>\n",
       "      <td>C16H15NO3</td>\n",
       "      <td>COCc1noc(O)c1Cc1ccc2ccccc2c1</td>\n",
       "      <td>COCc1noc(O)c1Cc1ccc2ccccc2c1</td>\n",
       "      <td>28</td>\n",
       "    </tr>\n",
       "    <tr>\n",
       "      <th>374</th>\n",
       "      <td>CHEMBL157177</td>\n",
       "      <td>NaN</td>\n",
       "      <td>NaN</td>\n",
       "      <td>Small molecule</td>\n",
       "      <td>0</td>\n",
       "      <td>278.36</td>\n",
       "      <td>1</td>\n",
       "      <td>1.0</td>\n",
       "      <td>3.82</td>\n",
       "      <td>34.89</td>\n",
       "      <td>...</td>\n",
       "      <td>21.0</td>\n",
       "      <td>3.0</td>\n",
       "      <td>0.0</td>\n",
       "      <td>0.0</td>\n",
       "      <td>278.1419</td>\n",
       "      <td>NEUTRAL</td>\n",
       "      <td>C18H18N2O</td>\n",
       "      <td>Cc1ccc2c(c1)c(=O)nc(C(C)C)n2-c1ccccc1</td>\n",
       "      <td>Cc1ccc2c(c1)c(=O)nc(C(C)C)n2-c1ccccc1</td>\n",
       "      <td>37</td>\n",
       "    </tr>\n",
       "    <tr>\n",
       "      <th>375</th>\n",
       "      <td>CHEMBL53561</td>\n",
       "      <td>NaN</td>\n",
       "      <td>NaN</td>\n",
       "      <td>Small molecule</td>\n",
       "      <td>0</td>\n",
       "      <td>353.47</td>\n",
       "      <td>0</td>\n",
       "      <td>NaN</td>\n",
       "      <td>1.83</td>\n",
       "      <td>74.49</td>\n",
       "      <td>...</td>\n",
       "      <td>26.0</td>\n",
       "      <td>6.0</td>\n",
       "      <td>3.0</td>\n",
       "      <td>0.0</td>\n",
       "      <td>353.2216</td>\n",
       "      <td>NEUTRAL</td>\n",
       "      <td>C20H27N5O</td>\n",
       "      <td>Cc1cc(N)cc(C)c1C(=O)NCCN1CCN(c2ccccn2)CC1</td>\n",
       "      <td>Cc1cc(N)cc(C)c1C(=O)NCCN1CCN(c2ccccn2)CC1</td>\n",
       "      <td>41</td>\n",
       "    </tr>\n",
       "  </tbody>\n",
       "</table>\n",
       "<p>5 rows × 33 columns</p>\n",
       "</div>"
      ],
      "text/plain": [
       "        ChEMBL ID Name Synonyms            Type  Max Phase  Molecular Weight  \\\n",
       "369  CHEMBL288742  NaN      NaN  Small molecule          0            468.43   \n",
       "372  CHEMBL293576  NaN      NaN  Small molecule          0            434.54   \n",
       "373  CHEMBL159008  NaN      NaN  Small molecule          0            269.30   \n",
       "374  CHEMBL157177  NaN      NaN  Small molecule          0            278.36   \n",
       "375   CHEMBL53561  NaN      NaN  Small molecule          0            353.47   \n",
       "\n",
       "     Targets  Bioactivities  AlogP     PSA  ...  Heavy Atoms  HBA Lipinski  \\\n",
       "369        2            2.0   2.96  137.04  ...         33.0           9.0   \n",
       "372        1            1.0   2.56  136.76  ...         32.0           8.0   \n",
       "373        1            2.0   3.27   55.49  ...         20.0           4.0   \n",
       "374        1            1.0   3.82   34.89  ...         21.0           3.0   \n",
       "375        0            NaN   1.83   74.49  ...         26.0           6.0   \n",
       "\n",
       "     HBD Lipinski  #RO5 Violations (Lipinski) Molecular Weight (Monoisotopic)  \\\n",
       "369           4.0                         0.0                        468.1621   \n",
       "372           6.0                         1.0                        434.2430   \n",
       "373           1.0                         0.0                        269.1052   \n",
       "374           0.0                         0.0                        278.1419   \n",
       "375           3.0                         0.0                        353.2216   \n",
       "\n",
       "     Molecular Species  Molecular Formula  \\\n",
       "369               ACID       C21H23F3N4O5   \n",
       "372               BASE         C24H30N6O2   \n",
       "373               ACID          C16H15NO3   \n",
       "374            NEUTRAL          C18H18N2O   \n",
       "375            NEUTRAL          C20H27N5O   \n",
       "\n",
       "                                                Smiles  \\\n",
       "369  O=C(O)C(CCCCn1cnc2c1NC=NCC2O)(Cc1ccccc1C(F)(F)...   \n",
       "372  Cc1ccc(-c2cc(CN(Cc3ccccc3)C(CCCN=C(N)N)C(N)=O)...   \n",
       "373                       COCc1noc(O)c1Cc1ccc2ccccc2c1   \n",
       "374              Cc1ccc2c(c1)c(=O)nc(C(C)C)n2-c1ccccc1   \n",
       "375          Cc1cc(N)cc(C)c1C(=O)NCCN1CCN(c2ccccn2)CC1   \n",
       "\n",
       "                                                smiles  length  \n",
       "369  O=C(O)C(CCCCn1cnc2c1NC=NCC2O)(Cc1ccccc1C(F)(F)...      54  \n",
       "372  Cc1ccc(-c2cc(CN(Cc3ccccc3)C(CCCN=C(N)N)C(N)=O)...      53  \n",
       "373                       COCc1noc(O)c1Cc1ccc2ccccc2c1      28  \n",
       "374              Cc1ccc2c(c1)c(=O)nc(C(C)C)n2-c1ccccc1      37  \n",
       "375          Cc1cc(N)cc(C)c1C(=O)NCCN1CCN(c2ccccn2)CC1      41  \n",
       "\n",
       "[5 rows x 33 columns]"
      ]
     },
     "execution_count": 4,
     "metadata": {},
     "output_type": "execute_result"
    }
   ],
   "source": [
    "chembl_smiles = pd.read_csv('./datasets/CHEMBL26-chembl_molecule.csv',sep=';')\n",
    "print(chembl_smiles.shape)\n",
    "chembl_smiles = chembl_smiles[chembl_smiles['Smiles'].notnull()]\n",
    "print(chembl_smiles.shape)\n",
    "chembl_smiles['smiles'] = chembl_smiles[\"Smiles\"]\n",
    "chembl_smiles['length'] = chembl_smiles[\"smiles\"].str.len()\n",
    "chembl_smiles.head()"
   ]
  },
  {
   "cell_type": "code",
   "execution_count": 5,
   "metadata": {},
   "outputs": [],
   "source": [
    "# Load existing smiles from original dataset\n",
    "old_smiles = pd.read_csv('./datasets/dataset.smi', names=[\"smiles\"])\n",
    "old_smiles['length'] = old_smiles[\"smiles\"].str.len() "
   ]
  },
  {
   "cell_type": "code",
   "execution_count": 6,
   "metadata": {},
   "outputs": [
    {
     "name": "stdout",
     "output_type": "stream",
     "text": [
      "(1936962,)\n",
      "(1936962,)\n"
     ]
    }
   ],
   "source": [
    "# They are ready to be appended once run through a canonizer and then drop duplicates\n",
    "moses_smiles = moses_smiles['smiles']\n",
    "print(moses_smiles.shape)\n",
    "moses_smiles = moses_smiles.drop_duplicates()\n",
    "print(moses_smiles.shape)"
   ]
  },
  {
   "cell_type": "code",
   "execution_count": 7,
   "metadata": {},
   "outputs": [
    {
     "name": "stdout",
     "output_type": "stream",
     "text": [
      "(1913602,)\n",
      "(1913492,)\n"
     ]
    }
   ],
   "source": [
    "# They are ready to be appended once run through a canonizer and then drop duplicates\n",
    "chembl_smiles = chembl_smiles['smiles']\n",
    "print(chembl_smiles.shape)\n",
    "chembl_smiles = chembl_smiles.drop_duplicates()\n",
    "print(chembl_smiles.shape)"
   ]
  },
  {
   "cell_type": "code",
   "execution_count": 8,
   "metadata": {},
   "outputs": [
    {
     "name": "stdout",
     "output_type": "stream",
     "text": [
      "(556134,)\n",
      "(556134,)\n"
     ]
    }
   ],
   "source": [
    "old_smiles = old_smiles['smiles']\n",
    "print(old_smiles.shape)\n",
    "old_smiles = old_smiles.drop_duplicates()\n",
    "print(old_smiles.shape)"
   ]
  },
  {
   "cell_type": "code",
   "execution_count": 9,
   "metadata": {},
   "outputs": [
    {
     "name": "stdout",
     "output_type": "stream",
     "text": [
      "(3850454,)\n",
      "(3781835,)\n",
      "(4337969,)\n",
      "(4314433,)\n"
     ]
    }
   ],
   "source": [
    "smiles = moses_smiles.append(chembl_smiles)\n",
    "print(smiles.shape)\n",
    "smiles = smiles.drop_duplicates()\n",
    "print(smiles.shape)\n",
    "smiles = smiles.append(old_smiles)\n",
    "print(smiles.shape)\n",
    "smiles = smiles.drop_duplicates()\n",
    "print(smiles.shape)"
   ]
  },
  {
   "cell_type": "code",
   "execution_count": 10,
   "metadata": {},
   "outputs": [
    {
     "data": {
      "text/plain": [
       "0    CCCS(=O)c1ccc2[nH]c(=NC(=O)OC)[nH]c2c1\n",
       "1      CC(C)(C)C(=O)C(Oc1ccc(Cl)cc1)n1ccnc1\n",
       "2    CC1C2CCC(C2)C1CN(CCO)C(=O)c1ccc(Cl)cc1\n",
       "3       Cc1c(Cl)cccc1Nc1ncccc1C(=O)OCC(O)CO\n",
       "4          Cn1cnc2c1c(=O)n(CC(O)CO)c(=O)n2C\n",
       "Name: smiles, dtype: object"
      ]
     },
     "execution_count": 10,
     "metadata": {},
     "output_type": "execute_result"
    }
   ],
   "source": [
    "smiles.head()"
   ]
  },
  {
   "cell_type": "code",
   "execution_count": 11,
   "metadata": {},
   "outputs": [],
   "source": [
    "smiles.to_csv(r'./datasets/all_smiles.smi', header=None, index=None, sep='\\t', mode='a')"
   ]
  },
  {
   "cell_type": "code",
   "execution_count": 12,
   "metadata": {},
   "outputs": [
    {
     "name": "stdout",
     "output_type": "stream",
     "text": [
      "(4314433, 1)\n"
     ]
    },
    {
     "data": {
      "text/html": [
       "<div>\n",
       "<style scoped>\n",
       "    .dataframe tbody tr th:only-of-type {\n",
       "        vertical-align: middle;\n",
       "    }\n",
       "\n",
       "    .dataframe tbody tr th {\n",
       "        vertical-align: top;\n",
       "    }\n",
       "\n",
       "    .dataframe thead th {\n",
       "        text-align: right;\n",
       "    }\n",
       "</style>\n",
       "<table border=\"1\" class=\"dataframe\">\n",
       "  <thead>\n",
       "    <tr style=\"text-align: right;\">\n",
       "      <th></th>\n",
       "      <th>0</th>\n",
       "    </tr>\n",
       "  </thead>\n",
       "  <tbody>\n",
       "    <tr>\n",
       "      <th>0</th>\n",
       "      <td>CCCS(=O)c1ccc2[nH]c(=NC(=O)OC)[nH]c2c1</td>\n",
       "    </tr>\n",
       "    <tr>\n",
       "      <th>1</th>\n",
       "      <td>CC(C)(C)C(=O)C(Oc1ccc(Cl)cc1)n1ccnc1</td>\n",
       "    </tr>\n",
       "    <tr>\n",
       "      <th>2</th>\n",
       "      <td>CC1C2CCC(C2)C1CN(CCO)C(=O)c1ccc(Cl)cc1</td>\n",
       "    </tr>\n",
       "    <tr>\n",
       "      <th>3</th>\n",
       "      <td>Cc1c(Cl)cccc1Nc1ncccc1C(=O)OCC(O)CO</td>\n",
       "    </tr>\n",
       "    <tr>\n",
       "      <th>4</th>\n",
       "      <td>Cn1cnc2c1c(=O)n(CC(O)CO)c(=O)n2C</td>\n",
       "    </tr>\n",
       "  </tbody>\n",
       "</table>\n",
       "</div>"
      ],
      "text/plain": [
       "                                        0\n",
       "0  CCCS(=O)c1ccc2[nH]c(=NC(=O)OC)[nH]c2c1\n",
       "1    CC(C)(C)C(=O)C(Oc1ccc(Cl)cc1)n1ccnc1\n",
       "2  CC1C2CCC(C2)C1CN(CCO)C(=O)c1ccc(Cl)cc1\n",
       "3     Cc1c(Cl)cccc1Nc1ncccc1C(=O)OCC(O)CO\n",
       "4        Cn1cnc2c1c(=O)n(CC(O)CO)c(=O)n2C"
      ]
     },
     "execution_count": 12,
     "metadata": {},
     "output_type": "execute_result"
    }
   ],
   "source": [
    "# Manually append HIV inhibitors list and remove duplicates to see if currently has any of them\n",
    "all_smiles_test = pd.read_csv('./datasets/all_smiles.smi',sep='\\t', header=None)\n",
    "print(all_smiles_test.shape)\n",
    "all_smiles_test.head()"
   ]
  },
  {
   "cell_type": "code",
   "execution_count": 13,
   "metadata": {},
   "outputs": [],
   "source": [
    "# Now can combine these lists and run the data cleaning py script"
   ]
  },
  {
   "cell_type": "markdown",
   "metadata": {},
   "source": [
    "Found HIV inhibitor drug SMILES to manually add above\n",
    "\n",
    "https://pubchem.ncbi.nlm.nih.gov/\n",
    "\n",
    "Tipranavir - 85\n",
    "CCCC1(CC(=C(C(=O)O1)C(CC)C2=CC(=CC=C2)NS(=O)(=O)C3=NC=C(C=C3)C(F)(F)F)O)CCC4=CC=CC=C4\n",
    "Darunavir - 71\n",
    "CC(C)CN(CC(C(CC1=CC=CC=C1)NC(=O)OC2COC3C2CCO3)O)S(=O)(=O)C4=CC=C(C=C4)N\n",
    "Amprenavir - 66\n",
    "CC(C)CN(CC(C(CC1=CC=CC=C1)NC(=O)OC2CCOC2)O)S(=O)(=O)C3=CC=C(C=C3)N\n",
    "Lopinavir - 84\n",
    "CC1=C(C(=CC=C1)C)OCC(=O)NC(CC2=CC=CC=C2)C(CC(CC3=CC=CC=C3)NC(=O)C(C(C)C)N4CCCNC4=O)O\n",
    "Atazanavir - 98\n",
    "CC(C)(C)C(C(=O)NC(CC1=CC=CC=C1)C(CN(CC2=CC=C(C=C2)C3=CC=CC=N3)NC(=O)C(C(C)(C)C)NC(=O)OC)O)NC(=O)OC\n",
    "Saquinavir - 89\n",
    "CC(C)(C)NC(=O)C1CC2CCCCC2CN1CC(C(CC3=CC=CC=C3)NC(=O)C(CC(=O)N)NC(=O)C4=NC5=CC=CC=C5C=C4)O\n",
    "Indinavir - 82\n",
    "CC(C)(C)NC(=O)C1CN(CCN1CC(CC(CC2=CC=CC=C2)C(=O)NC3C(CC4=CC=CC=C34)O)O)CC5=CN=CC=C5\n",
    "Ritonavir - 93\n",
    "CC(C)C1=NC(=CS1)CN(C)C(=O)NC(C(C)C)C(=O)NC(CC2=CC=CC=C2)CC(C(CC3=CC=CC=C3)NC(=O)OCC4=CN=CS4)O\n",
    "Nelfinavir - 70\n",
    "CC1=C(C=CC=C1O)C(=O)NC(CSC2=CC=CC=C2)C(CN3CC4CCCCC4CC3C(=O)NC(C)(C)C)O\n",
    "Efavirenz - 45\n",
    "C1CC1C#CC2(C3=C(C=CC(=C3)Cl)NC(=O)O2)C(F)(F)F\n",
    "\n",
    "GS-8374 - 89\n",
    "CCOP(=O)(COC1=CC=C(C=C1)CC(C(CN(CC(C)C)S(=O)(=O)C2=CC=C(C=C2)OC)O)NC(=O)OC3COC4C3CCO4)OCC\n",
    "https://www.ncbi.nlm.nih.gov/pmc/articles/PMC3957959/\n",
    "\n",
    "SPI-256 - ???\n",
    "http://www.natap.org/2006/CROI/CROI_04.htm\n",
    "\n",
    "See this for more:\n",
    "https://www.ncbi.nlm.nih.gov/pmc/articles/PMC5228633/\n",
    "TMC310911 - 96\n",
    "CC(C)CN(CC(C(CC1=CC=CC=C1)NC(=O)OC2COC3C2CCO3)O)S(=O)(=O)C4=CC5=C(C=C4)N=C(S5)NC6CCN(CC6)C7CCCC7\n",
    "CTP-518 - 98\n",
    "CC(C)(C)C(C(=O)NC(CC1=CC=CC=C1)C(CN(CC2=CC=C(C=C2)C3=CC=CC=N3)NC(=O)C(C(C)(C)C)NC(=O)OC)O)NC(=O)OC\n",
    "PPL-100 - 83\n",
    "CC(C)CN(C(CCCCNC(=O)C(C(C1=CC=CC=C1)C2=CC=CC=C2)NC(=O)OC)CO)S(=O)(=O)C3=CC=C(C=C3)N"
   ]
  }
 ],
 "metadata": {
  "kernelspec": {
   "display_name": "Python 3",
   "language": "python",
   "name": "python3"
  },
  "language_info": {
   "codemirror_mode": {
    "name": "ipython",
    "version": 3
   },
   "file_extension": ".py",
   "mimetype": "text/x-python",
   "name": "python",
   "nbconvert_exporter": "python",
   "pygments_lexer": "ipython3",
   "version": "3.7.6"
  }
 },
 "nbformat": 4,
 "nbformat_minor": 4
}
