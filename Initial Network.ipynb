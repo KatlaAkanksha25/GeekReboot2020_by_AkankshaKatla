{
 "cells": [
  {
   "cell_type": "markdown",
   "metadata": {},
   "source": [
    "# Description\n",
    "\n",
    "This notebook is used to train a RNN on the known universe of SMILES to learn to very accurately generate novel small molecules. We then use this initial network to generate our generation 0 (gen0) candidate molecules."
   ]
  },
  {
   "cell_type": "markdown",
   "metadata": {},
   "source": [
    "## Train the Network"
   ]
  },
  {
   "cell_type": "code",
   "execution_count": 1,
   "metadata": {},
   "outputs": [
    {
     "name": "stdout",
     "output_type": "stream",
     "text": [
      "WARNING:tensorflow:From <ipython-input-1-cff5e14f5db6>:2: is_gpu_available (from tensorflow.python.framework.test_util) is deprecated and will be removed in a future version.\n",
      "Instructions for updating:\n",
      "Use `tf.config.list_physical_devices('GPU')` instead.\n"
     ]
    },
    {
     "data": {
      "text/plain": [
       "True"
      ]
     },
     "execution_count": 1,
     "metadata": {},
     "output_type": "execute_result"
    }
   ],
   "source": [
    "import tensorflow\n",
    "tensorflow.test.is_gpu_available()"
   ]
  },
  {
   "cell_type": "code",
   "execution_count": 2,
   "metadata": {},
   "outputs": [
    {
     "name": "stderr",
     "output_type": "stream",
     "text": [
      "Using TensorFlow backend.\n"
     ]
    }
   ],
   "source": [
    "import numpy as np\n",
    "from copy import copy\n",
    "\n",
    "import keras\n",
    "\n",
    "from lstm_chem.utils.config import process_config\n",
    "from lstm_chem.model import LSTMChem\n",
    "from lstm_chem.generator import LSTMChemGenerator\n",
    "from lstm_chem.trainer import LSTMChemTrainer\n",
    "from lstm_chem.data_loader import DataLoader"
   ]
  },
  {
   "cell_type": "code",
   "execution_count": 3,
   "metadata": {},
   "outputs": [],
   "source": [
    "CONFIG_FILE = 'experiments/2020-04-21/LSTM_Chem/config.json'\n",
    "config = process_config(CONFIG_FILE)"
   ]
  },
  {
   "cell_type": "code",
   "execution_count": 4,
   "metadata": {},
   "outputs": [],
   "source": [
    "modeler = LSTMChem(config, session='train')"
   ]
  },
  {
   "cell_type": "code",
   "execution_count": 5,
   "metadata": {},
   "outputs": [
    {
     "name": "stderr",
     "output_type": "stream",
     "text": [
      "  0%|          | 284/438552 [00:00<02:34, 2832.82it/s]"
     ]
    },
    {
     "name": "stdout",
     "output_type": "stream",
     "text": [
      "loading SMILES...\n",
      "done.\n",
      "tokenizing SMILES...\n"
     ]
    },
    {
     "name": "stderr",
     "output_type": "stream",
     "text": [
      "100%|██████████| 438552/438552 [02:40<00:00, 2740.89it/s]"
     ]
    },
    {
     "name": "stdout",
     "output_type": "stream",
     "text": [
      "done.\n"
     ]
    },
    {
     "name": "stderr",
     "output_type": "stream",
     "text": [
      "\n"
     ]
    }
   ],
   "source": [
    "train_dl = DataLoader(config, data_type='train')"
   ]
  },
  {
   "cell_type": "code",
   "execution_count": 6,
   "metadata": {
    "scrolled": false
   },
   "outputs": [],
   "source": [
    "valid_dl = copy(train_dl)\n",
    "valid_dl.data_type = 'valid'"
   ]
  },
  {
   "cell_type": "code",
   "execution_count": 7,
   "metadata": {
    "scrolled": true
   },
   "outputs": [],
   "source": [
    "trainer = LSTMChemTrainer(modeler, train_dl, valid_dl)"
   ]
  },
  {
   "cell_type": "code",
   "execution_count": 8,
   "metadata": {},
   "outputs": [
    {
     "name": "stdout",
     "output_type": "stream",
     "text": [
      "WARNING:tensorflow:From /home/avinash/notebooks/deep_learning_coronavirus_cure/lstm_chem/trainer.py:44: Model.fit_generator (from tensorflow.python.keras.engine.training) is deprecated and will be removed in a future version.\n",
      "Instructions for updating:\n",
      "Please use Model.fit, which supports generators.\n",
      "WARNING:tensorflow:sample_weight modes were coerced from\n",
      "  ...\n",
      "    to  \n",
      "  ['...']\n",
      "WARNING:tensorflow:sample_weight modes were coerced from\n",
      "  ...\n",
      "    to  \n",
      "  ['...']\n",
      "Train for 1542 steps, validate for 172 steps\n",
      "Epoch 1/22\n",
      "WARNING:tensorflow:multiprocessing can interact badly with TensorFlow, causing nondeterministic deadlocks. For high performance data pipelines tf.data is recommended.\n",
      "1541/1542 [============================>.] - ETA: 0s - loss: 1.1556WARNING:tensorflow:multiprocessing can interact badly with TensorFlow, causing nondeterministic deadlocks. For high performance data pipelines tf.data is recommended.\n",
      "\n",
      "Epoch 00001: saving model to experiments/2020-04-21/LSTM_Chem/checkpoints/LSTM_Chem-01-0.73.hdf5\n",
      "1542/1542 [==============================] - 394s 255ms/step - loss: 1.1555 - val_loss: 0.7332\n",
      "Epoch 2/22\n",
      "WARNING:tensorflow:multiprocessing can interact badly with TensorFlow, causing nondeterministic deadlocks. For high performance data pipelines tf.data is recommended.\n",
      "1541/1542 [============================>.] - ETA: 0s - loss: 0.8909WARNING:tensorflow:multiprocessing can interact badly with TensorFlow, causing nondeterministic deadlocks. For high performance data pipelines tf.data is recommended.\n",
      "\n",
      "Epoch 00002: saving model to experiments/2020-04-21/LSTM_Chem/checkpoints/LSTM_Chem-02-0.64.hdf5\n",
      "1542/1542 [==============================] - 397s 257ms/step - loss: 0.8909 - val_loss: 0.6418\n",
      "Epoch 3/22\n",
      "WARNING:tensorflow:multiprocessing can interact badly with TensorFlow, causing nondeterministic deadlocks. For high performance data pipelines tf.data is recommended.\n",
      "1541/1542 [============================>.] - ETA: 0s - loss: 0.8307WARNING:tensorflow:multiprocessing can interact badly with TensorFlow, causing nondeterministic deadlocks. For high performance data pipelines tf.data is recommended.\n",
      "\n",
      "Epoch 00003: saving model to experiments/2020-04-21/LSTM_Chem/checkpoints/LSTM_Chem-03-0.60.hdf5\n",
      "1542/1542 [==============================] - 397s 257ms/step - loss: 0.8307 - val_loss: 0.5969\n",
      "Epoch 4/22\n",
      "WARNING:tensorflow:multiprocessing can interact badly with TensorFlow, causing nondeterministic deadlocks. For high performance data pipelines tf.data is recommended.\n",
      "1541/1542 [============================>.] - ETA: 0s - loss: 0.7960WARNING:tensorflow:multiprocessing can interact badly with TensorFlow, causing nondeterministic deadlocks. For high performance data pipelines tf.data is recommended.\n",
      "\n",
      "Epoch 00004: saving model to experiments/2020-04-21/LSTM_Chem/checkpoints/LSTM_Chem-04-0.57.hdf5\n",
      "1542/1542 [==============================] - 389s 252ms/step - loss: 0.7960 - val_loss: 0.5696\n",
      "Epoch 5/22\n",
      "WARNING:tensorflow:multiprocessing can interact badly with TensorFlow, causing nondeterministic deadlocks. For high performance data pipelines tf.data is recommended.\n",
      "1541/1542 [============================>.] - ETA: 0s - loss: 0.7731WARNING:tensorflow:multiprocessing can interact badly with TensorFlow, causing nondeterministic deadlocks. For high performance data pipelines tf.data is recommended.\n",
      "\n",
      "Epoch 00005: saving model to experiments/2020-04-21/LSTM_Chem/checkpoints/LSTM_Chem-05-0.55.hdf5\n",
      "1542/1542 [==============================] - 396s 257ms/step - loss: 0.7731 - val_loss: 0.5502\n",
      "Epoch 6/22\n",
      "WARNING:tensorflow:multiprocessing can interact badly with TensorFlow, causing nondeterministic deadlocks. For high performance data pipelines tf.data is recommended.\n",
      "1541/1542 [============================>.] - ETA: 0s - loss: 0.7565WARNING:tensorflow:multiprocessing can interact badly with TensorFlow, causing nondeterministic deadlocks. For high performance data pipelines tf.data is recommended.\n",
      "\n",
      "Epoch 00006: saving model to experiments/2020-04-21/LSTM_Chem/checkpoints/LSTM_Chem-06-0.54.hdf5\n",
      "1542/1542 [==============================] - 397s 257ms/step - loss: 0.7565 - val_loss: 0.5366\n",
      "Epoch 7/22\n",
      "WARNING:tensorflow:multiprocessing can interact badly with TensorFlow, causing nondeterministic deadlocks. For high performance data pipelines tf.data is recommended.\n",
      "1541/1542 [============================>.] - ETA: 0s - loss: 0.7437WARNING:tensorflow:multiprocessing can interact badly with TensorFlow, causing nondeterministic deadlocks. For high performance data pipelines tf.data is recommended.\n",
      "\n",
      "Epoch 00007: saving model to experiments/2020-04-21/LSTM_Chem/checkpoints/LSTM_Chem-07-0.52.hdf5\n",
      "1542/1542 [==============================] - 400s 259ms/step - loss: 0.7437 - val_loss: 0.5249\n",
      "Epoch 8/22\n",
      "WARNING:tensorflow:multiprocessing can interact badly with TensorFlow, causing nondeterministic deadlocks. For high performance data pipelines tf.data is recommended.\n",
      "1541/1542 [============================>.] - ETA: 0s - loss: 0.7337WARNING:tensorflow:multiprocessing can interact badly with TensorFlow, causing nondeterministic deadlocks. For high performance data pipelines tf.data is recommended.\n",
      "\n",
      "Epoch 00008: saving model to experiments/2020-04-21/LSTM_Chem/checkpoints/LSTM_Chem-08-0.52.hdf5\n",
      "1542/1542 [==============================] - 395s 256ms/step - loss: 0.7337 - val_loss: 0.5159\n",
      "Epoch 9/22\n",
      "WARNING:tensorflow:multiprocessing can interact badly with TensorFlow, causing nondeterministic deadlocks. For high performance data pipelines tf.data is recommended.\n",
      "1541/1542 [============================>.] - ETA: 0s - loss: 0.7252WARNING:tensorflow:multiprocessing can interact badly with TensorFlow, causing nondeterministic deadlocks. For high performance data pipelines tf.data is recommended.\n",
      "\n",
      "Epoch 00009: saving model to experiments/2020-04-21/LSTM_Chem/checkpoints/LSTM_Chem-09-0.51.hdf5\n",
      "1542/1542 [==============================] - 402s 261ms/step - loss: 0.7252 - val_loss: 0.5087\n",
      "Epoch 10/22\n",
      "WARNING:tensorflow:multiprocessing can interact badly with TensorFlow, causing nondeterministic deadlocks. For high performance data pipelines tf.data is recommended.\n",
      "1541/1542 [============================>.] - ETA: 0s - loss: 0.7181WARNING:tensorflow:multiprocessing can interact badly with TensorFlow, causing nondeterministic deadlocks. For high performance data pipelines tf.data is recommended.\n",
      "\n",
      "Epoch 00010: saving model to experiments/2020-04-21/LSTM_Chem/checkpoints/LSTM_Chem-10-0.50.hdf5\n",
      "1542/1542 [==============================] - 407s 264ms/step - loss: 0.7181 - val_loss: 0.5023\n",
      "Epoch 11/22\n",
      "WARNING:tensorflow:multiprocessing can interact badly with TensorFlow, causing nondeterministic deadlocks. For high performance data pipelines tf.data is recommended.\n",
      "1541/1542 [============================>.] - ETA: 0s - loss: 0.7124WARNING:tensorflow:multiprocessing can interact badly with TensorFlow, causing nondeterministic deadlocks. For high performance data pipelines tf.data is recommended.\n",
      "\n",
      "Epoch 00011: saving model to experiments/2020-04-21/LSTM_Chem/checkpoints/LSTM_Chem-11-0.50.hdf5\n",
      "1542/1542 [==============================] - 399s 259ms/step - loss: 0.7124 - val_loss: 0.4968\n",
      "Epoch 12/22\n",
      "WARNING:tensorflow:multiprocessing can interact badly with TensorFlow, causing nondeterministic deadlocks. For high performance data pipelines tf.data is recommended.\n",
      "1541/1542 [============================>.] - ETA: 0s - loss: 0.7069WARNING:tensorflow:multiprocessing can interact badly with TensorFlow, causing nondeterministic deadlocks. For high performance data pipelines tf.data is recommended.\n",
      "\n",
      "Epoch 00012: saving model to experiments/2020-04-21/LSTM_Chem/checkpoints/LSTM_Chem-12-0.49.hdf5\n",
      "1542/1542 [==============================] - 406s 263ms/step - loss: 0.7069 - val_loss: 0.4924\n",
      "Epoch 13/22\n",
      "WARNING:tensorflow:multiprocessing can interact badly with TensorFlow, causing nondeterministic deadlocks. For high performance data pipelines tf.data is recommended.\n",
      "1541/1542 [============================>.] - ETA: 0s - loss: 0.7025WARNING:tensorflow:multiprocessing can interact badly with TensorFlow, causing nondeterministic deadlocks. For high performance data pipelines tf.data is recommended.\n",
      "\n",
      "Epoch 00013: saving model to experiments/2020-04-21/LSTM_Chem/checkpoints/LSTM_Chem-13-0.49.hdf5\n",
      "1542/1542 [==============================] - 403s 262ms/step - loss: 0.7025 - val_loss: 0.4875\n"
     ]
    },
    {
     "name": "stdout",
     "output_type": "stream",
     "text": [
      "Epoch 14/22\n",
      "WARNING:tensorflow:multiprocessing can interact badly with TensorFlow, causing nondeterministic deadlocks. For high performance data pipelines tf.data is recommended.\n",
      "1541/1542 [============================>.] - ETA: 0s - loss: 0.6980WARNING:tensorflow:multiprocessing can interact badly with TensorFlow, causing nondeterministic deadlocks. For high performance data pipelines tf.data is recommended.\n",
      "\n",
      "Epoch 00014: saving model to experiments/2020-04-21/LSTM_Chem/checkpoints/LSTM_Chem-14-0.48.hdf5\n",
      "1542/1542 [==============================] - 395s 256ms/step - loss: 0.6980 - val_loss: 0.4846\n",
      "Epoch 15/22\n",
      "WARNING:tensorflow:multiprocessing can interact badly with TensorFlow, causing nondeterministic deadlocks. For high performance data pipelines tf.data is recommended.\n",
      "1541/1542 [============================>.] - ETA: 0s - loss: 0.6943WARNING:tensorflow:multiprocessing can interact badly with TensorFlow, causing nondeterministic deadlocks. For high performance data pipelines tf.data is recommended.\n",
      "\n",
      "Epoch 00015: saving model to experiments/2020-04-21/LSTM_Chem/checkpoints/LSTM_Chem-15-0.48.hdf5\n",
      "1542/1542 [==============================] - 399s 259ms/step - loss: 0.6943 - val_loss: 0.4812\n",
      "Epoch 16/22\n",
      "WARNING:tensorflow:multiprocessing can interact badly with TensorFlow, causing nondeterministic deadlocks. For high performance data pipelines tf.data is recommended.\n",
      "1541/1542 [============================>.] - ETA: 0s - loss: 0.6911WARNING:tensorflow:multiprocessing can interact badly with TensorFlow, causing nondeterministic deadlocks. For high performance data pipelines tf.data is recommended.\n",
      "\n",
      "Epoch 00016: saving model to experiments/2020-04-21/LSTM_Chem/checkpoints/LSTM_Chem-16-0.48.hdf5\n",
      "1542/1542 [==============================] - 399s 259ms/step - loss: 0.6911 - val_loss: 0.4778\n",
      "Epoch 17/22\n",
      "WARNING:tensorflow:multiprocessing can interact badly with TensorFlow, causing nondeterministic deadlocks. For high performance data pipelines tf.data is recommended.\n",
      "1541/1542 [============================>.] - ETA: 0s - loss: 0.6876WARNING:tensorflow:multiprocessing can interact badly with TensorFlow, causing nondeterministic deadlocks. For high performance data pipelines tf.data is recommended.\n",
      "\n",
      "Epoch 00017: saving model to experiments/2020-04-21/LSTM_Chem/checkpoints/LSTM_Chem-17-0.48.hdf5\n",
      "1542/1542 [==============================] - 399s 259ms/step - loss: 0.6876 - val_loss: 0.4758\n",
      "Epoch 18/22\n",
      "WARNING:tensorflow:multiprocessing can interact badly with TensorFlow, causing nondeterministic deadlocks. For high performance data pipelines tf.data is recommended.\n",
      "1541/1542 [============================>.] - ETA: 0s - loss: 0.6852WARNING:tensorflow:multiprocessing can interact badly with TensorFlow, causing nondeterministic deadlocks. For high performance data pipelines tf.data is recommended.\n",
      "\n",
      "Epoch 00018: saving model to experiments/2020-04-21/LSTM_Chem/checkpoints/LSTM_Chem-18-0.47.hdf5\n",
      "1542/1542 [==============================] - 404s 262ms/step - loss: 0.6852 - val_loss: 0.4723\n",
      "Epoch 19/22\n",
      "WARNING:tensorflow:multiprocessing can interact badly with TensorFlow, causing nondeterministic deadlocks. For high performance data pipelines tf.data is recommended.\n",
      "1541/1542 [============================>.] - ETA: 0s - loss: 0.6826WARNING:tensorflow:multiprocessing can interact badly with TensorFlow, causing nondeterministic deadlocks. For high performance data pipelines tf.data is recommended.\n",
      "\n",
      "Epoch 00019: saving model to experiments/2020-04-21/LSTM_Chem/checkpoints/LSTM_Chem-19-0.47.hdf5\n",
      "1542/1542 [==============================] - 392s 254ms/step - loss: 0.6826 - val_loss: 0.4704\n",
      "Epoch 20/22\n",
      "WARNING:tensorflow:multiprocessing can interact badly with TensorFlow, causing nondeterministic deadlocks. For high performance data pipelines tf.data is recommended.\n",
      "1541/1542 [============================>.] - ETA: 0s - loss: 0.6800WARNING:tensorflow:multiprocessing can interact badly with TensorFlow, causing nondeterministic deadlocks. For high performance data pipelines tf.data is recommended.\n",
      "\n",
      "Epoch 00020: saving model to experiments/2020-04-21/LSTM_Chem/checkpoints/LSTM_Chem-20-0.47.hdf5\n",
      "1542/1542 [==============================] - 384s 249ms/step - loss: 0.6800 - val_loss: 0.4686\n",
      "Epoch 21/22\n",
      "WARNING:tensorflow:multiprocessing can interact badly with TensorFlow, causing nondeterministic deadlocks. For high performance data pipelines tf.data is recommended.\n",
      "1541/1542 [============================>.] - ETA: 0s - loss: 0.6781WARNING:tensorflow:multiprocessing can interact badly with TensorFlow, causing nondeterministic deadlocks. For high performance data pipelines tf.data is recommended.\n",
      "\n",
      "Epoch 00021: saving model to experiments/2020-04-21/LSTM_Chem/checkpoints/LSTM_Chem-21-0.47.hdf5\n",
      "1542/1542 [==============================] - 391s 253ms/step - loss: 0.6781 - val_loss: 0.4662\n",
      "Epoch 22/22\n",
      "WARNING:tensorflow:multiprocessing can interact badly with TensorFlow, causing nondeterministic deadlocks. For high performance data pipelines tf.data is recommended.\n",
      "1541/1542 [============================>.] - ETA: 0s - loss: 0.6762WARNING:tensorflow:multiprocessing can interact badly with TensorFlow, causing nondeterministic deadlocks. For high performance data pipelines tf.data is recommended.\n",
      "\n",
      "Epoch 00022: saving model to experiments/2020-04-21/LSTM_Chem/checkpoints/LSTM_Chem-22-0.46.hdf5\n",
      "1542/1542 [==============================] - 391s 254ms/step - loss: 0.6762 - val_loss: 0.4649\n"
     ]
    }
   ],
   "source": [
    "trainer.train()"
   ]
  },
  {
   "cell_type": "code",
   "execution_count": 12,
   "metadata": {},
   "outputs": [],
   "source": [
    "# Save weights of the trained model\n",
    "trainer.model.save_weights('experiments/2020-04-21/LSTM_Chem/checkpoints/LSTM_Chem-baseline-model-full.hdf5')"
   ]
  },
  {
   "cell_type": "markdown",
   "metadata": {},
   "source": [
    "## Now load the model and GENERATE new molecules"
   ]
  },
  {
   "cell_type": "code",
   "execution_count": 13,
   "metadata": {},
   "outputs": [
    {
     "name": "stdout",
     "output_type": "stream",
     "text": [
      "batch_size: 256\n",
      "checkpoint_dir: experiments/2020-04-21/LSTM_Chem/checkpoints/\n",
      "checkpoint_mode: min\n",
      "checkpoint_monitor: val_loss\n",
      "checkpoint_save_best_only: false\n",
      "checkpoint_save_weights_only: true\n",
      "checkpoint_verbose: 1\n",
      "config_file: experiments/2020-04-21/LSTM_Chem/config.json\n",
      "data_filename: ./datasets/dataset_cleansed.smi\n",
      "data_length: 0\n",
      "exp_dir: experiments/2020-04-21/LSTM_Chem\n",
      "exp_name: LSTM_Chem\n",
      "finetune_batch_size: 1\n",
      "finetune_data_filename: ./datasets/TRPM8_inhibitors_for_fine-tune.smi\n",
      "finetune_epochs: 12\n",
      "model_arch_filename: experiments/2020-04-21/LSTM_Chem/model_arch.json\n",
      "model_weight_filename: experiments/2020-04-21/LSTM_Chem/checkpoints/LSTM_Chem-baseline-model-full.hdf5\n",
      "num_epochs: 22\n",
      "optimizer: adam\n",
      "sampling_temp: 0.75\n",
      "seed: 71\n",
      "smiles_max_length: 128\n",
      "tensorboard_log_dir: experiments/2020-04-21/LSTM_Chem/logs/\n",
      "tensorboard_write_graph: true\n",
      "train_smi_max_len: 74\n",
      "units: 256\n",
      "validation_split: 0.1\n",
      "verbose_training: true\n",
      "\n"
     ]
    }
   ],
   "source": [
    "config['model_weight_filename'] = 'experiments/2020-04-21/LSTM_Chem/checkpoints/LSTM_Chem-baseline-model-full.hdf5'\n",
    "print(config)"
   ]
  },
  {
   "cell_type": "code",
   "execution_count": 14,
   "metadata": {
    "scrolled": false
   },
   "outputs": [
    {
     "name": "stdout",
     "output_type": "stream",
     "text": [
      "Loading model architecture from experiments/2020-04-21/LSTM_Chem/model_arch.json ...\n",
      "Loading model checkpoint from experiments/2020-04-21/LSTM_Chem/checkpoints/LSTM_Chem-baseline-model-full.hdf5 ...\n",
      "Loaded the Model.\n",
      "batch_size: 256\n",
      "checkpoint_dir: experiments/2020-04-21/LSTM_Chem/checkpoints/\n",
      "checkpoint_mode: min\n",
      "checkpoint_monitor: val_loss\n",
      "checkpoint_save_best_only: false\n",
      "checkpoint_save_weights_only: true\n",
      "checkpoint_verbose: 1\n",
      "config_file: experiments/2020-04-21/LSTM_Chem/config.json\n",
      "data_filename: ./datasets/dataset_cleansed.smi\n",
      "data_length: 0\n",
      "exp_dir: experiments/2020-04-21/LSTM_Chem\n",
      "exp_name: LSTM_Chem\n",
      "finetune_batch_size: 1\n",
      "finetune_data_filename: ./datasets/TRPM8_inhibitors_for_fine-tune.smi\n",
      "finetune_epochs: 12\n",
      "model_arch_filename: experiments/2020-04-21/LSTM_Chem/model_arch.json\n",
      "model_weight_filename: experiments/2020-04-21/LSTM_Chem/checkpoints/LSTM_Chem-baseline-model-full.hdf5\n",
      "num_epochs: 22\n",
      "optimizer: adam\n",
      "sampling_temp: 0.75\n",
      "seed: 71\n",
      "smiles_max_length: 128\n",
      "tensorboard_log_dir: experiments/2020-04-21/LSTM_Chem/logs/\n",
      "tensorboard_write_graph: true\n",
      "train_smi_max_len: 74\n",
      "units: 256\n",
      "validation_split: 0.1\n",
      "verbose_training: true\n",
      "\n"
     ]
    }
   ],
   "source": [
    "modeler = LSTMChem(config, session='generate')\n",
    "generator = LSTMChemGenerator(modeler)\n",
    "print(config)"
   ]
  },
  {
   "cell_type": "code",
   "execution_count": 15,
   "metadata": {},
   "outputs": [
    {
     "name": "stderr",
     "output_type": "stream",
     "text": [
      "100%|██████████| 10000/10000 [1:18:34<00:00,  2.12it/s]\n"
     ]
    }
   ],
   "source": [
    "sample_number = 10000\n",
    "sampled_smiles = generator.sample(num=sample_number)"
   ]
  },
  {
   "cell_type": "code",
   "execution_count": 16,
   "metadata": {},
   "outputs": [],
   "source": [
    "from rdkit import RDLogger, Chem, DataStructs\n",
    "from rdkit.Chem import AllChem, Draw, Descriptors\n",
    "from rdkit.Chem.Draw import IPythonConsole\n",
    "RDLogger.DisableLog('rdApp.*')"
   ]
  },
  {
   "cell_type": "code",
   "execution_count": 17,
   "metadata": {},
   "outputs": [
    {
     "name": "stdout",
     "output_type": "stream",
     "text": [
      "Validity:  65.76%\n",
      "Uniqueness:  99.80%\n",
      "Originality:  98.87%\n"
     ]
    }
   ],
   "source": [
    "valid_mols = []\n",
    "for smi in sampled_smiles:\n",
    "    mol = Chem.MolFromSmiles(smi)\n",
    "    if mol is not None:\n",
    "        valid_mols.append(mol)\n",
    "# low validity\n",
    "print('Validity: ', f'{len(valid_mols) / sample_number:.2%}')\n",
    "\n",
    "valid_smiles = [Chem.MolToSmiles(mol) for mol in valid_mols]\n",
    "# high uniqueness\n",
    "print('Uniqueness: ', f'{len(set(valid_smiles)) / len(valid_smiles):.2%}')\n",
    "\n",
    "# Of valid smiles generated, how many are truly original vs ocurring in the training data\n",
    "import pandas as pd\n",
    "training_data = pd.read_csv('./datasets/all_smiles_clean.smi', header=None)\n",
    "training_set = set(list(training_data[0]))\n",
    "original = []\n",
    "for smile in valid_smiles:\n",
    "    if not smile in training_set:\n",
    "        original.append(smile)\n",
    "print('Originality: ', f'{len(set(original)) / len(set(valid_smiles)):.2%}')"
   ]
  },
  {
   "cell_type": "code",
   "execution_count": 18,
   "metadata": {},
   "outputs": [],
   "source": [
    "with open('./generations/gen0.smi', 'w') as f:\n",
    "    for item in valid_smiles:\n",
    "        f.write(\"%s\\n\" % item)"
   ]
  }
 ],
 "metadata": {
  "kernelspec": {
   "display_name": "Python 3",
   "language": "python",
   "name": "python3"
  },
  "language_info": {
   "codemirror_mode": {
    "name": "ipython",
    "version": 3
   },
   "file_extension": ".py",
   "mimetype": "text/x-python",
   "name": "python",
   "nbconvert_exporter": "python",
   "pygments_lexer": "ipython3",
   "version": "3.6.4"
  }
 },
 "nbformat": 4,
 "nbformat_minor": 4
}
